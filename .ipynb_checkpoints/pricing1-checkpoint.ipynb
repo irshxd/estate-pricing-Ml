{
 "cells": [
  {
   "cell_type": "code",
   "execution_count": 1,
   "id": "6970c227-fd0a-4b93-a1f9-353091e23016",
   "metadata": {},
   "outputs": [
    {
     "name": "stdout",
     "output_type": "stream",
     "text": [
      "Root Mean Squared Error: 6.478142921667525\n",
      "Predicted Price: [20.40109094]\n"
     ]
    }
   ],
   "source": [
    "import pandas as pd\n",
    "import numpy as np\n",
    "from sklearn.model_selection import train_test_split\n",
    "from sklearn.linear_model import LinearRegression\n",
    "from sklearn.metrics import mean_squared_error\n",
    "from sklearn.pipeline import Pipeline\n",
    "from sklearn.impute import SimpleImputer\n",
    "from sklearn.preprocessing import StandardScaler\n",
    "from joblib import dump, load\n",
    "\n",
    "\n",
    "housing = pd.read_csv(\"data.csv\")\n",
    "\n",
    "X = housing[['ZN', 'RM']]\n",
    "y = housing['MEDV']\n",
    "\n",
    "X_train, X_test, y_train, y_test = train_test_split(X, y, test_size=0.2, random_state=42)\n",
    "\n",
    "my_pipeline = Pipeline([\n",
    "    ('imputer', SimpleImputer(strategy=\"median\")),\n",
    "    ('std_scaler', StandardScaler())\n",
    "])\n",
    "\n",
    "X_train_preprocessed = my_pipeline.fit_transform(X_train)\n",
    "\n",
    "model = LinearRegression()\n",
    "model.fit(X_train_preprocessed, y_train)\n",
    "\n",
    "dump(model, 'housing_price_prediction_model.joblib')\n",
    "\n",
    "X_test_preprocessed = my_pipeline.transform(X_test)\n",
    "\n",
    "y_pred = model.predict(X_test_preprocessed)\n",
    "\n",
    "rmse = np.sqrt(mean_squared_error(y_test, y_pred))\n",
    "print(\"Root Mean Squared Error:\", rmse)\n",
    "\n",
    "loaded_model = load('housing_price_prediction_model.joblib')\n",
    "\n",
    "new_data = pd.DataFrame({'ZN': [20], 'RM': [6]})\n",
    "\n",
    "new_data_preprocessed = my_pipeline.transform(new_data)\n",
    "\n",
    "predicted_price = loaded_model.predict(new_data_preprocessed)\n",
    "print(\"Predicted Price:\", predicted_price)\n"
   ]
  },
  {
   "cell_type": "code",
   "execution_count": null,
   "id": "18f9f2b9-2f90-4897-b1a9-40dcc784cdec",
   "metadata": {},
   "outputs": [],
   "source": []
  }
 ],
 "metadata": {
  "kernelspec": {
   "display_name": "Python 3 (ipykernel)",
   "language": "python",
   "name": "python3"
  },
  "language_info": {
   "codemirror_mode": {
    "name": "ipython",
    "version": 3
   },
   "file_extension": ".py",
   "mimetype": "text/x-python",
   "name": "python",
   "nbconvert_exporter": "python",
   "pygments_lexer": "ipython3",
   "version": "3.12.0"
  }
 },
 "nbformat": 4,
 "nbformat_minor": 5
}
